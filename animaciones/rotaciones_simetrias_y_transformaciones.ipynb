{
 "cells": [
  {
   "cell_type": "code",
   "execution_count": 3,
   "id": "consecutive-handle",
   "metadata": {},
   "outputs": [],
   "source": [
    "from manim import *\n",
    "from math import cos, sin, pi\n",
    "\n",
    "config.media_width = \"80%\""
   ]
  },
  {
   "cell_type": "code",
   "execution_count": 7,
   "id": "present-backup",
   "metadata": {},
   "outputs": [],
   "source": [
    "def angulo_a_radianes(angulo):\n",
    "    return angulo * pi / 180"
   ]
  },
  {
   "cell_type": "code",
   "execution_count": 8,
   "id": "vulnerable-toronto",
   "metadata": {},
   "outputs": [
    {
     "name": "stderr",
     "output_type": "stream",
     "text": [
      "                                                                                                              \r"
     ]
    },
    {
     "data": {
      "text/html": [
       "<video src=\"media/jupyter/EjemploAplicacionDeRotacion@2021-10-09@11-06-00.mp4\" controls autoplay loop style=\"max-width: 80%;\"  >\n",
       "      Your browser does not support the <code>video</code> element.\n",
       "    </video>"
      ],
      "text/plain": [
       "<IPython.core.display.Video object>"
      ]
     },
     "metadata": {},
     "output_type": "display_data"
    }
   ],
   "source": [
    "%%manim -v WARNING -qm EjemploAplicacionDeRotacion\n",
    "\n",
    "class EjemploAplicacionDeRotacion(LinearTransformationScene):\n",
    "    def construct(self):\n",
    "        self.leave_ghost_vectors = True\n",
    "        \n",
    "        angulo = 45\n",
    "        angulo_en_radianes = angulo_a_radianes(angulo)\n",
    "        matriz = [\n",
    "            [cos(angulo_en_radianes), -sin(angulo_en_radianes)], \n",
    "            [sin(angulo_en_radianes), cos(angulo_en_radianes)]\n",
    "        ]\n",
    "        self.apply_matrix(matriz)\n",
    "        self.wait()"
   ]
  },
  {
   "cell_type": "code",
   "execution_count": 9,
   "id": "fatty-excitement",
   "metadata": {},
   "outputs": [
    {
     "name": "stderr",
     "output_type": "stream",
     "text": [
      "                                                                                                                        \r"
     ]
    },
    {
     "data": {
      "text/html": [
       "<video src=\"media/jupyter/EjemploDeAplicacionDeSimetria@2021-10-09@11-06-28.mp4\" controls autoplay loop style=\"max-width: 80%;\"  >\n",
       "      Your browser does not support the <code>video</code> element.\n",
       "    </video>"
      ],
      "text/plain": [
       "<IPython.core.display.Video object>"
      ]
     },
     "metadata": {},
     "output_type": "display_data"
    }
   ],
   "source": [
    "%%manim -v WARNING -qm EjemploDeAplicacionDeSimetria\n",
    "\n",
    "class EjemploDeAplicacionDeSimetria(LinearTransformationScene):\n",
    "    def construct(self):\n",
    "        self.leave_ghost_vectors = True\n",
    "        \n",
    "        angulo = 45\n",
    "        angulo_en_radianes = angulo_a_radianes(angulo)\n",
    "        matriz = [\n",
    "            [cos(angulo_en_radianes), sin(angulo_en_radianes)], \n",
    "            [sin(angulo_en_radianes), -cos(angulo_en_radianes)]\n",
    "        ]\n",
    "        self.apply_matrix(matriz)\n",
    "        self.wait()"
   ]
  },
  {
   "cell_type": "code",
   "execution_count": null,
   "id": "steady-stocks",
   "metadata": {},
   "outputs": [],
   "source": [
    "%%manim -v WARNING -qm LinearTransformationExample\n",
    "\n",
    "class LinearTransformationExample(LinearTransformationScene):\n",
    "    def construct(self):\n",
    "        self.leave_ghost_vectors = True\n",
    "        \n",
    "        matriz = [\n",
    "            [1, 1],\n",
    "            [0, 1]\n",
    "        ]\n",
    "        self.apply_matrix(matriz)\n",
    "        self.wait()"
   ]
  }
 ],
 "metadata": {
  "kernelspec": {
   "display_name": "Python 3 (ipykernel)",
   "language": "python",
   "name": "python3"
  },
  "language_info": {
   "codemirror_mode": {
    "name": "ipython",
    "version": 3
   },
   "file_extension": ".py",
   "mimetype": "text/x-python",
   "name": "python",
   "nbconvert_exporter": "python",
   "pygments_lexer": "ipython3",
   "version": "3.8.10"
  }
 },
 "nbformat": 4,
 "nbformat_minor": 5
}

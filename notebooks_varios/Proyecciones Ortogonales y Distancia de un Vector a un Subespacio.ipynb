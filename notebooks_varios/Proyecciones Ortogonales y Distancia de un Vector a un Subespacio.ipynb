{
 "cells": [
  {
   "cell_type": "code",
   "execution_count": 1,
   "id": "expected-relative",
   "metadata": {},
   "outputs": [],
   "source": [
    "from sympy import *\n",
    "\n",
    "init_printing(use_unicode=True)"
   ]
  },
  {
   "cell_type": "markdown",
   "id": "partial-coordinate",
   "metadata": {},
   "source": [
    "# Matriz con respecto a la base canónica de la proyección ortogonal sobre un subespacio"
   ]
  },
  {
   "cell_type": "markdown",
   "id": "accessible-forth",
   "metadata": {},
   "source": [
    "$$\n",
    "\\left[P_{gen\\{G^{-1}w\\}}\\right]^{E}_{E}\n",
    "$$"
   ]
  },
  {
   "cell_type": "code",
   "execution_count": 31,
   "id": "eight-applicant",
   "metadata": {},
   "outputs": [],
   "source": [
    "def matriz_de_proyeccion_ortogonal_en_base_canonica(S, dimension, G=None):\n",
    "    '''\n",
    "        w: es el vector que genera al subespacio del cuál queremos obtener la matriz respecto a la base canónica de\n",
    "           la proyección ortogonal si el producto interno fuese el canónico\n",
    "            Ejemplo: si S = {x en R^3 : x1 + x2 + x3 = 0} => w = [1, 1, 1]\n",
    "        dimension: es la dimension del espacio euclídeo en cuestión\n",
    "        G: es la matriz de Gram del espacio euclídeo en cuestión\n",
    "    '''\n",
    "    if S.rank() > 2:\n",
    "        raise NotImplementedError(\"Esta función sólo funciona para subespacios de dimensión <= 2\")\n",
    "        \n",
    "    if not G:\n",
    "        G = eye(dimension)\n",
    "        \n",
    "    if S.rank() == 2:\n",
    "        S = S.col(0).cross(S.col(1))\n",
    "        \n",
    "    G_inv = G.inv()\n",
    "    return  (1 / (S.T * G_inv * S)[0]) * G_inv * S * S.T"
   ]
  },
  {
   "cell_type": "markdown",
   "id": "stable-barbados",
   "metadata": {},
   "source": [
    "# Ejemplo\n",
    "\n",
    "En $\\mathbb{R}^{3}$ con el producto interno $\\langle\\cdot, \\cdot\\rangle$ definido por\n",
    "\n",
    "$$\n",
    "\\langle x, y \\rangle = y^{T} \\begin{bmatrix}2 & -2 & 0\\\\ -2 & 5 & 4\\\\ 0 & 4 & 6\\end{bmatrix} x\n",
    "$$\n",
    "\n",
    "se consideran los subespacios\n",
    "$$\n",
    "\\mathbb{S}_{1} = \\{x \\in \\mathbb{R}^{3} : x_{1} + x_{2} + x_{3} = 0\\} \\text{ y } \\mathbb{S}_{2} = \\{x \\in \\mathbb{R}^{3} : x_{1} - x_{3} = 0\\}\n",
    "$$\n",
    "\n",
    "3.7 (a) Hallar las matrices con respecto a la base canónica de las proyecciones ortogonales de $\\mathbb{R}^{3}$ sobre $\\mathbb{S}_{1}^{\\perp}$ y sobre $\\mathbb{S}_{2}^{\\perp}$"
   ]
  },
  {
   "cell_type": "code",
   "execution_count": 33,
   "id": "digital-newsletter",
   "metadata": {},
   "outputs": [
    {
     "data": {
      "image/png": "[encoded data removed]",
      "text/latex": [
       "$\\displaystyle \\left[\\begin{matrix}\\frac{3}{4} & \\frac{3}{4} & \\frac{3}{4}\\\\\\frac{2}{3} & \\frac{2}{3} & \\frac{2}{3}\\\\- \\frac{5}{12} & - \\frac{5}{12} & - \\frac{5}{12}\\end{matrix}\\right]$"
      ],
      "text/plain": [
       "⎡ 3/4    3/4    3/4 ⎤\n",
       "⎢                   ⎥\n",
       "⎢ 2/3    2/3    2/3 ⎥\n",
       "⎢                   ⎥\n",
       "⎣-5/12  -5/12  -5/12⎦"
      ]
     },
     "metadata": {},
     "output_type": "display_data"
    },
    {
     "data": {
      "image/png": "[encoded data removed]",
      "text/latex": [
       "$\\displaystyle \\left[\\begin{matrix}\\frac{11}{18} & 0 & - \\frac{11}{18}\\\\\\frac{5}{9} & 0 & - \\frac{5}{9}\\\\- \\frac{7}{18} & 0 & \\frac{7}{18}\\end{matrix}\\right]$"
      ],
      "text/plain": [
       "⎡ 11       -11 ⎤\n",
       "⎢ ──    0  ────⎥\n",
       "⎢ 18        18 ⎥\n",
       "⎢              ⎥\n",
       "⎢ 5/9   0  -5/9⎥\n",
       "⎢              ⎥\n",
       "⎣-7/18  0  7/18⎦"
      ]
     },
     "metadata": {},
     "output_type": "display_data"
    }
   ],
   "source": [
    "S1_ort = Matrix([1, 1, 1])\n",
    "S2_ort = Matrix([1, 0, -1])\n",
    "G = Matrix([[2, -2, 0], [-2, 5, 4], [0, 4, 6]])\n",
    "dim = 3\n",
    "\n",
    "P_S1_ort = matriz_de_proyeccion_ortogonal_en_base_canonica(S1, dim, G)\n",
    "P_S2_ort = matriz_de_proyeccion_ortogonal_en_base_canonica(S2_ort, dim, G)\n",
    "display(P_S1_ort)\n",
    "display(P_S2_ort)"
   ]
  },
  {
   "cell_type": "markdown",
   "id": "boring-condition",
   "metadata": {},
   "source": [
    "# Distancia de un vector a un subespacio\n",
    "\n",
    "\n",
    "\n"
   ]
  },
  {
   "cell_type": "markdown",
   "id": "democratic-collar",
   "metadata": {},
   "source": [
    "$$\n",
    "\\text{Esta función computa }||P_{\\mathbb{S}^{\\perp}}(x)|| \\text{ a partir de un subespacio } \\mathbb{S} \\text{ con } dim(\\mathbb{S}) \\leq 2, \\text{ o a partir de } \\mathbb{S}^{\\perp} \\text{ con } dim(\\mathbb{S}) \\leq 2.\n",
    "$$"
   ]
  },
  {
   "cell_type": "code",
   "execution_count": 19,
   "id": "invisible-entity",
   "metadata": {},
   "outputs": [],
   "source": [
    "def distancia_de_un_vector_a_un_subespacio(x: Matrix, S, dimension: int, G: Matrix=None):\n",
    "    '''\n",
    "        x: es el vector que queremos proyectar sobre el subespacio ortogonal de dimensión 1\n",
    "        S: es el subespacio que queremos saber a qué distancia de x se encuentra\n",
    "        dimension: es la dimension del espacio euclídeo en cuestión\n",
    "        G: es la matriz de Gram del espacio euclídeo en cuestión\n",
    "        \n",
    "        Esta función calcula la distancia del vector x al subespacio S, sea S de dimensión 1, o 2\n",
    "    '''\n",
    "    if S.rank() > 2:\n",
    "        raise NotImplementedError(\"Esta función sólo funciona para subespacios de dimensión <= 2\")\n",
    "        \n",
    "    if not G:\n",
    "        G = eye(dimension)\n",
    "        \n",
    "    if S.rank() == 2:\n",
    "        S = S.col(0).cross(S.col(1))\n",
    "    \n",
    "    return S.T * x / sqrt((S.T * G.inv() * w)[0]) "
   ]
  },
  {
   "cell_type": "markdown",
   "id": "governmental-duncan",
   "metadata": {},
   "source": [
    "## Ejemplo\n",
    "\n",
    "Sea $(\\mathbb{V}, \\langle\\cdot, \\cdot\\rangle)$ un $\\mathbb{R}$-espacio euclídeo de dimsensión 3, y sea $\\{v_{1}, v_{2}, v_{3}\\}$ un base de $\\mathbb{V}$ cuya matriz de Gram es\n",
    "\n",
    "$$\n",
    "\\begin{bmatrix}\n",
    "    \\frac{1}{5} & 0 & \\frac{1}{3}\\\\\n",
    "    0 & \\frac{1}{3} & 0\\\\\n",
    "    \\frac{1}{3} & 0 & 1\\\\\n",
    "\\end{bmatrix}\n",
    "$$\n",
    "\n",
    "La distancia del vector $2v_{1} + 5v_{2} + 3v_{3}$ al subespacio gen$\\{v_{1}, v_{2}\\}$ es\n"
   ]
  },
  {
   "cell_type": "code",
   "execution_count": 22,
   "id": "automatic-prevention",
   "metadata": {},
   "outputs": [
    {
     "data": {
      "image/png": "[encoded data removed]",
      "text/latex": [
       "$\\displaystyle \\left[\\begin{matrix}2\\end{matrix}\\right]$"
      ],
      "text/plain": [
       "[2]"
      ]
     },
     "execution_count": 22,
     "metadata": {},
     "output_type": "execute_result"
    }
   ],
   "source": [
    "r = Rational # Misma función, nombre más corto - Es para que las fracciones no aparezcan en decimal\n",
    "G_B = Matrix([[r('1/5'), 0, r('1/3')], [0, r('1/3'), 0], [r('1/3'), 0, 1]])\n",
    "q_B = Matrix([2, 5, 3])\n",
    "w = Matrix([0, 0, 1])\n",
    "\n",
    "distancia_de_un_vector_a_un_subespacio(x=q_B, S=w, dimension=3, G=G_B)"
   ]
  }
 ],
 "metadata": {
  "kernelspec": {
   "display_name": "Python 3 (ipykernel)",
   "language": "python",
   "name": "python3"
  },
  "language_info": {
   "codemirror_mode": {
    "name": "ipython",
    "version": 3
   },
   "file_extension": ".py",
   "mimetype": "text/x-python",
   "name": "python",
   "nbconvert_exporter": "python",
   "pygments_lexer": "ipython3",
   "version": "3.8.10"
  }
 },
 "nbformat": 4,
 "nbformat_minor": 5
}

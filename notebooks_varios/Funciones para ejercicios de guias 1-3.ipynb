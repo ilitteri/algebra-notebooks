{
 "cells": [
  {
   "cell_type": "code",
   "execution_count": 1,
   "id": "irish-lottery",
   "metadata": {},
   "outputs": [],
   "source": [
    "from sympy import *\n",
    "init_printing(use_unicode=True)"
   ]
  },
  {
   "cell_type": "code",
   "execution_count": 2,
   "id": "sapphire-speech",
   "metadata": {},
   "outputs": [],
   "source": [
    "from typing import List, Dict"
   ]
  },
  {
   "cell_type": "markdown",
   "id": "allied-cherry",
   "metadata": {},
   "source": [
    "# Guía 1"
   ]
  },
  {
   "cell_type": "code",
   "execution_count": 3,
   "id": "inappropriate-general",
   "metadata": {},
   "outputs": [
    {
     "data": {
      "text/plain": [
       "' OBTENER LOS 4 FANTÁSTICOS\\nA.nullspace() -> devuelve el espacio nulo de A \\nA.columnspace() -> devuelve el espacio columna de A\\nA.T.columnspace() -> devuelve el espacio columna de A traspuesta\\nA.T.nullspace() -> devuelve el espacio nulo de A de a traspuesta\\n'"
      ]
     },
     "execution_count": 3,
     "metadata": {},
     "output_type": "execute_result"
    }
   ],
   "source": [
    "def coordenadas_de_un_vector_respecto_a_una_base_B(v: Matrix, coordenadas: Dict[Symbol, Matrix]):\n",
    "    '''\n",
    "    Devuelve las coordenadas de un vector respecto de una base B = {v1, v2, ..., vn}\n",
    "    \n",
    "    v: Es un vector escrito con símbolos (v1, v2, etc)\n",
    "    coordenadas: es un diccionario que indica cómo traducir cada vector en coordenadas de la base B\n",
    "    \n",
    "    Ejemplo de un ejercicio completo:\n",
    "    v1, v2, v3 = symbols('v1 v2 v3')\n",
    "\n",
    "    B = [v1, v2, v3]\n",
    "\n",
    "    coordenadas = {\n",
    "        v1: Matrix([1, 0, 0]),\n",
    "        v2: Matrix([0, 1, 0]),\n",
    "        v3: Matrix([0, 0, 1]),\n",
    "    }\n",
    "\n",
    "    w1 = 0*v1 + 0*v2 + 0*v3\n",
    "    w2 = v1 - v2\n",
    "    w3 = 2*v2 - v3\n",
    "\n",
    "    w2_B = coordenadas_de_un_vector_respecto_a_una_base_B(w2, coordenadas)\n",
    "    w3_B = coordenadas_de_un_vector_respecto_a_una_base_B(w3, coordenadas)\n",
    "\n",
    "    G_B = Matrix([[60, 30, 20], [30, 20, 15], [20, 15, 12]])\n",
    "\n",
    "    G = matriz_de_gram(producto_interno_por_definicion, G_B, w2_B, w3_B)\n",
    "    \n",
    "    area_de_un_triangulo(G)\n",
    "    '''\n",
    "    w = v\n",
    "    for vector in coordenadas:\n",
    "        w = w.subs(vector, coordenadas[vector])\n",
    "    return w\n",
    "\n",
    "def encontrar_a(B: List[Matrix], a: Symbol):\n",
    "    ''' MATRICES CUADRADAS\n",
    "    Halla el o los valores que puede tener a para que la base dada sea una base efectivamente\n",
    "    (para que los vectores sean linealmente independientes)\n",
    "    \n",
    "    Ejemplo:\n",
    "    a = Symbol('a')\n",
    "    B = [Matrix([a, 1, 2]), Matrix([3, 2, 3]), Matrix([1, -a, 1])]\n",
    "    encontrar_a(B, a)\n",
    "    '''\n",
    "    return solve(det(Matrix.hstack(*B)), a)\n",
    "\n",
    "def algoritmo_espacio_columna(S: List[Matrix]):\n",
    "    '''\n",
    "    Encuentra el espacio columna de un subespacio\n",
    "    Devuelve una tupla con una lista de los vectores que generan el espacio columna \n",
    "    y los índices de los pivotes.\n",
    "    \n",
    "    S: es una lista de los vectores que generan al subespacio S\n",
    "    '''\n",
    "    B_S = Matrix.hstack(*S)\n",
    "    _, pivotes_S = B_S.rref()\n",
    "    S_li = []\n",
    "    for pivote in pivotes_S:\n",
    "        S_li.append(S[pivote])\n",
    "    return S_li, pivotes_S\n",
    "\n",
    "def dos_subespacios_generan_el_mismo_subespacio(S1: List[Matrix], S2: List[Matrix]):\n",
    "    '''\n",
    "    Verifica si dos subespacios son el mismo subespacio devolviendo True para ese \n",
    "    caso y False en caso contrario.\n",
    "    \n",
    "    Ejemplo:\n",
    "    S1 = [Matrix([-4, -5, -3]), Matrix([26, 41, 23])]\n",
    "    bien = [Matrix([11, 18, 10]), Matrix([15, 23, 13])]\n",
    "    mal_1 = [Matrix([-3, 10, 8]), Matrix([-6, 11, 10])]\n",
    "    mal_2 = [Matrix([7, 12, 2]), Matrix([9, 14, 1])]\n",
    "    mal_3 = [Matrix([7, 2, 12]), Matrix([9, 1, 14]), 2 * Matrix([9, 1, 14])]\n",
    "\n",
    "    dos_subespacios_generan_el_mismo_subespacio(S1, bien), dos_subespacios_generan_el_mismo_subespacio(S1, mal_1), dos_subespacios_generan_el_mismo_subespacio(S1, mal_2), dos_subespacios_generan_el_mismo_subespacio(S1, mal_3)\n",
    "    '''\n",
    "    S1_li, pivotes_S1 = algoritmo_espacio_columna(S1)\n",
    "    S2_li, pivotes_S2 = algoritmo_espacio_columna(S2)\n",
    "    \n",
    "    B_S1_li = Matrix.hstack(*S1_li)\n",
    "    B_S2_li = Matrix.hstack(*S2_li)\n",
    "    \n",
    "    B = Matrix.hstack(B_S1_li, B_S2_li)\n",
    "    _, pivotes_B = B.rref()\n",
    "    \n",
    "    return len(pivotes_B) == len(pivotes_S1) and len(pivotes_B) == len(pivotes_S2)\n",
    "\n",
    "''' OBTENER LOS 4 FANTÁSTICOS\n",
    "A.nullspace() -> devuelve el espacio nulo de A \n",
    "A.columnspace() -> devuelve el espacio columna de A\n",
    "A.T.columnspace() -> devuelve el espacio columna de A traspuesta\n",
    "A.T.nullspace() -> devuelve el espacio nulo de A de a traspuesta\n",
    "'''"
   ]
  },
  {
   "cell_type": "markdown",
   "id": "theoretical-morris",
   "metadata": {},
   "source": [
    "# Guía 2"
   ]
  },
  {
   "cell_type": "code",
   "execution_count": 4,
   "id": "aging-replication",
   "metadata": {},
   "outputs": [
    {
     "ename": "ValueError",
     "evalue": "substring not found",
     "output_type": "error",
     "traceback": [
      "\u001b[0;31m---------------------------------------------------------------------------\u001b[0m",
      "\u001b[0;31mValueError\u001b[0m                                Traceback (most recent call last)",
      "\u001b[0;32m<ipython-input-4-95ebe46490cd>\u001b[0m in \u001b[0;36mnucleo_de_operador_diferencial\u001b[0;34m(L)\u001b[0m\n\u001b[1;32m     36\u001b[0m         \u001b[0;32mtry\u001b[0m\u001b[0;34m:\u001b[0m\u001b[0;34m\u001b[0m\u001b[0;34m\u001b[0m\u001b[0m\n\u001b[0;32m---> 37\u001b[0;31m             \u001b[0ml\u001b[0m \u001b[0;34m=\u001b[0m \u001b[0;34m-\u001b[0m\u001b[0mint\u001b[0m\u001b[0;34m(\u001b[0m\u001b[0mraiz\u001b[0m\u001b[0;34m[\u001b[0m\u001b[0mraiz\u001b[0m\u001b[0;34m.\u001b[0m\u001b[0mindex\u001b[0m\u001b[0;34m(\u001b[0m\u001b[0;34m'-'\u001b[0m\u001b[0;34m)\u001b[0m\u001b[0;34m+\u001b[0m\u001b[0;36m1\u001b[0m\u001b[0;34m]\u001b[0m\u001b[0;34m)\u001b[0m\u001b[0;34m\u001b[0m\u001b[0;34m\u001b[0m\u001b[0m\n\u001b[0m\u001b[1;32m     38\u001b[0m         \u001b[0;32mexcept\u001b[0m\u001b[0;34m:\u001b[0m\u001b[0;34m\u001b[0m\u001b[0;34m\u001b[0m\u001b[0m\n",
      "\u001b[0;31mValueError\u001b[0m: invalid literal for int() with base 10: ' '",
      "\nDuring handling of the above exception, another exception occurred:\n",
      "\u001b[0;31mValueError\u001b[0m                                Traceback (most recent call last)",
      "\u001b[0;32m<ipython-input-4-95ebe46490cd>\u001b[0m in \u001b[0;36m<module>\u001b[0;34m\u001b[0m\n\u001b[1;32m     58\u001b[0m \u001b[0mL\u001b[0m \u001b[0;34m=\u001b[0m \u001b[0;34m(\u001b[0m\u001b[0mD\u001b[0m\u001b[0;34m-\u001b[0m\u001b[0;36m2\u001b[0m\u001b[0;34m*\u001b[0m\u001b[0mI\u001b[0m\u001b[0;34m)\u001b[0m\u001b[0;34m*\u001b[0m\u001b[0;34m(\u001b[0m\u001b[0mD\u001b[0m\u001b[0;34m-\u001b[0m\u001b[0;36m4\u001b[0m\u001b[0;34m*\u001b[0m\u001b[0mI\u001b[0m\u001b[0;34m)\u001b[0m\u001b[0;34m*\u001b[0m\u001b[0;34m(\u001b[0m\u001b[0mD\u001b[0m\u001b[0;34m+\u001b[0m\u001b[0;36m3\u001b[0m\u001b[0;34m*\u001b[0m\u001b[0mI\u001b[0m\u001b[0;34m)\u001b[0m\u001b[0;34m**\u001b[0m\u001b[0;36m2\u001b[0m\u001b[0;34m\u001b[0m\u001b[0;34m\u001b[0m\u001b[0m\n\u001b[1;32m     59\u001b[0m \u001b[0;34m\u001b[0m\u001b[0m\n\u001b[0;32m---> 60\u001b[0;31m \u001b[0mNu_L\u001b[0m \u001b[0;34m=\u001b[0m \u001b[0mnucleo_de_operador_diferencial\u001b[0m\u001b[0;34m(\u001b[0m\u001b[0mL\u001b[0m\u001b[0;34m)\u001b[0m\u001b[0;34m\u001b[0m\u001b[0;34m\u001b[0m\u001b[0m\n\u001b[0m\u001b[1;32m     61\u001b[0m \u001b[0mNu_A\u001b[0m \u001b[0;34m=\u001b[0m \u001b[0mnucleo_de_operador_diferencial\u001b[0m\u001b[0;34m(\u001b[0m\u001b[0;34m'(D+3I)^6'\u001b[0m\u001b[0;34m)\u001b[0m\u001b[0;34m\u001b[0m\u001b[0;34m\u001b[0m\u001b[0m\n\u001b[1;32m     62\u001b[0m \u001b[0;34m\u001b[0m\u001b[0m\n",
      "\u001b[0;32m<ipython-input-4-95ebe46490cd>\u001b[0m in \u001b[0;36mnucleo_de_operador_diferencial\u001b[0;34m(L)\u001b[0m\n\u001b[1;32m     37\u001b[0m             \u001b[0ml\u001b[0m \u001b[0;34m=\u001b[0m \u001b[0;34m-\u001b[0m\u001b[0mint\u001b[0m\u001b[0;34m(\u001b[0m\u001b[0mraiz\u001b[0m\u001b[0;34m[\u001b[0m\u001b[0mraiz\u001b[0m\u001b[0;34m.\u001b[0m\u001b[0mindex\u001b[0m\u001b[0;34m(\u001b[0m\u001b[0;34m'-'\u001b[0m\u001b[0;34m)\u001b[0m\u001b[0;34m+\u001b[0m\u001b[0;36m1\u001b[0m\u001b[0;34m]\u001b[0m\u001b[0;34m)\u001b[0m\u001b[0;34m\u001b[0m\u001b[0;34m\u001b[0m\u001b[0m\n\u001b[1;32m     38\u001b[0m         \u001b[0;32mexcept\u001b[0m\u001b[0;34m:\u001b[0m\u001b[0;34m\u001b[0m\u001b[0;34m\u001b[0m\u001b[0m\n\u001b[0;32m---> 39\u001b[0;31m             \u001b[0ml\u001b[0m \u001b[0;34m=\u001b[0m \u001b[0mint\u001b[0m\u001b[0;34m(\u001b[0m\u001b[0mraiz\u001b[0m\u001b[0;34m[\u001b[0m\u001b[0mraiz\u001b[0m\u001b[0;34m.\u001b[0m\u001b[0mindex\u001b[0m\u001b[0;34m(\u001b[0m\u001b[0;34m'+'\u001b[0m\u001b[0;34m)\u001b[0m\u001b[0;34m+\u001b[0m\u001b[0;36m1\u001b[0m\u001b[0;34m]\u001b[0m\u001b[0;34m)\u001b[0m\u001b[0;34m\u001b[0m\u001b[0;34m\u001b[0m\u001b[0m\n\u001b[0m\u001b[1;32m     40\u001b[0m \u001b[0;34m\u001b[0m\u001b[0m\n\u001b[1;32m     41\u001b[0m         \u001b[0;32mif\u001b[0m \u001b[0;34m'**'\u001b[0m \u001b[0;32min\u001b[0m \u001b[0mraiz\u001b[0m\u001b[0;34m:\u001b[0m\u001b[0;34m\u001b[0m\u001b[0;34m\u001b[0m\u001b[0m\n",
      "\u001b[0;31mValueError\u001b[0m: substring not found"
     ]
    }
   ],
   "source": [
    "def matriz_de_transformacion_lineal(B: List[Matrix], img_B: List[Matrix]):\n",
    "    '''\n",
    "    Halla la matriz de una transformación lineal T\n",
    "    Si T(x) = A * x, esta función encuentra A dada una base B y la imágen\n",
    "    por T de esa base B, es decir T(B).\n",
    "    \n",
    "    B: es una lista de vectores que conforman la base B\n",
    "    img_B: es una lista de vectores que corresponden a las imágenes de los vectores de la base B\n",
    "    \n",
    "    Ejemplo:\n",
    "    B = Matrix([[2, 2, 1], [1, -2, 2], [-2, 1, 2]])\n",
    "    img_B = Matrix([[0, -1, -1], [1, 0, -1], [1, 0, -1], [1, 1, 0]])\n",
    "    y = Matrix([2, 5, 5, 3])\n",
    "    '''\n",
    "    return Matrix.hstack(*img_B) * Matrix.hstack(*B).inv()\n",
    "\n",
    "def imagen_por_T_de_un_subespacio(B: List[Matrix], img_B: List[Matrix], S: List[Matrix]):\n",
    "    '''\n",
    "    Halla la imágen por T de un subespacio S dada una base B y la imágen por T de B\n",
    "    \n",
    "    B: es una lista de vectores que conforman la base B\n",
    "    img_B: es una lista de vectores que corresponden a las imágenes de los vectores de la base B\n",
    "    S: es una lista de vectores que generan el subespacio S\n",
    "    '''\n",
    "    img_S = matriz_de_transformacion_lineal(B, img_B) * Matrix.hstack(*S)\n",
    "    return img_S\n",
    "\n",
    "# TODO: EN CONSTRUCCIÓN\n",
    "def nucleo_de_operador_diferencial(L):\n",
    "    '''\n",
    "    '''\n",
    "    x = Symbol('x')\n",
    "    Nu_L = set()\n",
    "    raices = str(L).split('*')\n",
    "    for raiz in raices:\n",
    "        try:\n",
    "            l = -int(raiz[raiz.index('-')+1])\n",
    "        except:\n",
    "            l = int(raiz[raiz.index('+')+1])\n",
    "        \n",
    "        if '**' in raiz:   \n",
    "            k = int(raiz.split('**')[1])\n",
    "        else:\n",
    "            k = 1\n",
    "            \n",
    "        for i in range(k):\n",
    "            Nu_L.add((x**(i))*exp(-l*x))\n",
    "    return Nu_L\n",
    "\n",
    "def solucion_particular(Nu_L, Nu_A):\n",
    "    Nu_AL = Nu_L | Nu_A\n",
    "    yp_expr = ''\n",
    "    for i, e in enumerate(Nu_AL - Nu_L):\n",
    "        yp_expr += f'a{i+1}*{e}+'\n",
    "    return yp_expr[:-1]\n",
    "\n",
    "D, I = symbols('D I')\n",
    "L = (D-2*I)*(D-4*I)*(D+3*I)**2\n",
    "\n",
    "Nu_L = nucleo_de_operador_diferencial(L)\n",
    "Nu_A = nucleo_de_operador_diferencial('(D+3I)^6')\n",
    "\n",
    "solucion_particular(Nu_L, Nu_A)"
   ]
  },
  {
   "cell_type": "markdown",
   "id": "facial-motion",
   "metadata": {},
   "source": [
    "# Guía 3"
   ]
  },
  {
   "cell_type": "markdown",
   "id": "rental-jacket",
   "metadata": {},
   "source": [
    "## Productos Internos"
   ]
  },
  {
   "cell_type": "code",
   "execution_count": null,
   "id": "illegal-spice",
   "metadata": {},
   "outputs": [],
   "source": [
    "'''\n",
    "Para los productos internos en general\n",
    "\n",
    "A: es una matriz\n",
    "B: es una matriz armada con los vectores que conforman una base B\n",
    "\n",
    "x, y: son vectores\n",
    "G: es la matriz de Gram\n",
    "'''\n",
    "\n",
    "def producto_interno_matrices_3_x_3(A: Matrix, B: Matrix, G: Matrix=None):\n",
    "    return 1/2 * (B.T * A).trace()\n",
    "\n",
    "def producto_interno_por_definicion(x: Matrix, y: Matrix, G: Matrix):\n",
    "    return (y.T * G * x)[0]\n",
    "\n",
    "def producto_interno_polinomios_integral(p, q, x, limite_inferior=0, limite_superior=1, a=1):\n",
    "    return integrate(p * q * a, (x, limite_inferior, limite_superior))\n",
    "\n",
    "def producto_interno_canonico(x, y, G):\n",
    "    return (y.T * x)[0]"
   ]
  },
  {
   "cell_type": "markdown",
   "id": "comic-chase",
   "metadata": {},
   "source": [
    "## Matriz de Gram"
   ]
  },
  {
   "cell_type": "code",
   "execution_count": null,
   "id": "sixth-shell",
   "metadata": {},
   "outputs": [],
   "source": [
    "def matriz_de_gram(producto_interno, G_B, *vectores_ordenados):\n",
    "    '''\n",
    "    Dado un producto interno, una matriz de Gram que define ese producto interno (si es de matrices\n",
    "    enviar cualquier cosa) y una lista de vectores ordenados devuelve la matriz de Gram de esos vectores\n",
    "    \n",
    "    producto_interno: es el nombre de una función definida\n",
    "    G_B: es la matriz de Gram del producto interno\n",
    "    *vectores_ordenados: es una lista de vectores que se tienen que mandar ordenados\n",
    "    \n",
    "    Ejemplo:\n",
    "    \n",
    "    '''\n",
    "    G = eye(len(vectores_ordenados))\n",
    "    for i in range(len(vectores_ordenados)):\n",
    "        for j, vector in enumerate(vectores_ordenados):\n",
    "            G[i,j] = producto_interno(vectores_ordenados[i], vectores_ordenados[j], G_B)\n",
    "    \n",
    "    return G\n",
    "\n",
    "\n"
   ]
  },
  {
   "cell_type": "markdown",
   "id": "behind-chrome",
   "metadata": {},
   "source": [
    "## Norma, Ángulo y Distancia"
   ]
  },
  {
   "cell_type": "code",
   "execution_count": null,
   "id": "statewide-harvey",
   "metadata": {},
   "outputs": [],
   "source": [
    "def norma(x, producto_interno, G):\n",
    "    return sqrt(producto_interno(x, x, G))\n",
    "\n",
    "def angulo(x, y, G, producto_interno):\n",
    "    return acos(producto_interno(x, y, G) / (norma(x, producto_interno, G) * norma(y, producto_interno, G)))\n",
    "\n",
    "def distancia_de_un_vector_a_un_subespacio(v, B, G, producto_interno):\n",
    "    '''AGARRAR CON PINZAS'''\n",
    "    _v_tilda = v_tilda(v, B, eye(4), producto_interno)\n",
    "    return sqrt(producto_interno(v, v, G) - (_v_tilda.T * G.inv() * _v_tilda)[0])"
   ]
  },
  {
   "cell_type": "markdown",
   "id": "separate-recognition",
   "metadata": {},
   "source": [
    "## Áreas (triángulo y paralelogramo)"
   ]
  },
  {
   "cell_type": "code",
   "execution_count": null,
   "id": "exposed-amazon",
   "metadata": {},
   "outputs": [],
   "source": [
    "def area_de_un_paralelogramo(G: Matrix):\n",
    "    '''\n",
    "    Computa el área de un paralelogramo dada una matriz de Gram de los vértices de dicho triángulo\n",
    "    '''\n",
    "    return G.det()\n",
    "\n",
    "def area_de_un_triangulo(G: Matrix):\n",
    "    '''\n",
    "    Computa el área de un triángulo dada una matriz de Gram de los vértices de dicho triángulo\n",
    "    '''\n",
    "    return 1/2 * sqrt(area_de_un_paralelogramo(G))\n",
    "\n",
    "def resolver_area_de_un_triangulo_en_el_origen(G_B: Matrix, v1: Matrix, v2: Matrix):\n",
    "    '''\n",
    "    Calcula el área del triángulo de vértices v1 y v2 (siendo nunguno el vector nulo)\n",
    "    \n",
    "    Ejemplo:\n",
    "    v1 = Matrix([1, 1, 0])\n",
    "    v2 = Matrix([1, 0, 1])\n",
    "    G_B = Matrix([[1, 1, 1], [1, 2, 2], [1, 2, 3]])\n",
    "    resolver_area_de_un_triangulo_con_uno_de_los_vertices_en_el_origen(G_B, v1, v2)\n",
    "    '''\n",
    "    G_v1_v2 = matriz_de_gram(producto_interno_por_definicion, G_B, v1, v2)\n",
    "    return area_de_un_triangulo(G_v1_v2)\n",
    "   \n",
    "def resolver_area_de_un_triangulo_corrido_del_origen(G_B: Matrix, v1: Matrix, v2: Matrix, v3: Matrix):\n",
    "    '''\n",
    "    Calcula el área del triángulo de vértices v1, v2, y v3 (siendo nunguno el vector nulo)\n",
    "    \n",
    "    Ejemplo:\n",
    "    v1 = Matrix([3, 1, 2])\n",
    "    v2 = Matrix([4, 2, 2])\n",
    "    v3 = Matrix([4, 1, 3])\n",
    "    G_B = Matrix([[1, 1, 1], [1, 2, 2], [1, 2, 3]])\n",
    "    resolver_area_de_un_triangulo_con_uno_de_los_vertices_en_el_origen(G_B, v1, v2, v3)\n",
    "    '''\n",
    "    w1, w2, w3 = v1-v1, v2-v1, v3-v1\n",
    "    G_w2_w3 = matriz_de_gram(producto_interno_por_definicion, G_B, w2, w3)\n",
    "    return area_de_un_triangulo(G_v1_v2)"
   ]
  },
  {
   "cell_type": "markdown",
   "id": "worth-scott",
   "metadata": {},
   "source": [
    "## Proyecciones y Simetrías"
   ]
  },
  {
   "cell_type": "code",
   "execution_count": null,
   "id": "medium-excess",
   "metadata": {},
   "outputs": [],
   "source": [
    "def v_tilda(x: Matrix, B: List[Matrix], G: Matrix, producto_interno):\n",
    "    return Matrix([producto_interno(x, B[i], G) for i in range(len(B))])\n",
    "\n",
    "def proyeccion_ortogonal_de_un_vector_a_un_subespacio(x: Matrix, B: list, G: Matrix, producto_interno):\n",
    "    return G.inv() * v_tilda(x, B, G, producto_interno)\n",
    "\n",
    "def matriz_de_proyeccion_sobre_S1_en_direccion_de_S2_en_coordenadas_canonicas(S1: List[Matrix], S2: List[Matrix]):\n",
    "    '''\n",
    "    Arma la matriz de proyección sobre un subespacio S1 en dirección de otro subespacio S2 en coordenadas\n",
    "    canónicas dadas dos listas con vectores generadores de cada subespacio en particular.\n",
    "    \n",
    "    S1: lista de vectores que generan al subespacio S1 (sobre el que se quiere proyectar)\n",
    "    S1: lista de vectores que generan al subespacio S2 (la dirección)\n",
    "    '''\n",
    "    B_S1 = Matrix.hstack(*S1)\n",
    "    B_S2 = Matrix.hstack(*S2)\n",
    "    B = Matrix.hstack(B_S1, B_S2)\n",
    "    \n",
    "    P_BB = eye(B.rank())\n",
    "    for i in range(B_S1.rank(), B_S1.rank()-1, -1):\n",
    "        P_BB[i, i] = 0\n",
    "        \n",
    "    return B * P_BB * B.inv()\n",
    "\n",
    "def matriz_de_simetria_sobre_S1_en_direccion_de_S2_en_coordenadas_canonicas(S1: List[Matrix], S2: List[Matrix]):\n",
    "    '''\n",
    "    Arma la matriz de simetríá sobre un subespacio S1 en dirección de otro subespacio S2 en coordenadas\n",
    "    canónicas dadas dos listas con vectores generadores de cada subespacio en particular.\n",
    "    \n",
    "    S1: lista de vectores que generan al subespacio S1 (sobre el que se quiere hacer la simetría)\n",
    "    S1: lista de vectores que generan al subespacio S2 (la dirección)\n",
    "    '''\n",
    "    B_S1 = Matrix.hstack(*S1)\n",
    "    B_S2 = Matrix.hstack(*S2)\n",
    "    B = Matrix.hstack(B_S1, B_S2)\n",
    "    \n",
    "    S_BB = eye(B.rank())\n",
    "    for i in range(B_S1.rank(), B_S1.rank()-1, -1):\n",
    "        S_BB[i, i] = -1\n",
    "        \n",
    "    return B * S_BB * B.inv()"
   ]
  },
  {
   "cell_type": "markdown",
   "id": "confirmed-metallic",
   "metadata": {},
   "source": [
    "## QR"
   ]
  },
  {
   "cell_type": "code",
   "execution_count": null,
   "id": "floating-paper",
   "metadata": {},
   "outputs": [],
   "source": [
    "'''\n",
    "Q, R = A.QRDecomposition()\n",
    "'''"
   ]
  }
 ],
 "metadata": {
  "kernelspec": {
   "display_name": "Python 3 (ipykernel)",
   "language": "python",
   "name": "python3"
  },
  "language_info": {
   "codemirror_mode": {
    "name": "ipython",
    "version": 3
   },
   "file_extension": ".py",
   "mimetype": "text/x-python",
   "name": "python",
   "nbconvert_exporter": "python",
   "pygments_lexer": "ipython3",
   "version": "3.8.10"
  }
 },
 "nbformat": 4,
 "nbformat_minor": 5
}

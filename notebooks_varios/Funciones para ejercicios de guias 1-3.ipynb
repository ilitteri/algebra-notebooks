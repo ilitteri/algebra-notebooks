{
 "cells": [
  {
   "cell_type": "code",
   "execution_count": 1,
   "id": "irish-lottery",
   "metadata": {},
   "outputs": [],
   "source": [
    "from sympy import *\n",
    "init_printing(use_unicode=True)"
   ]
  },
  {
   "cell_type": "code",
   "execution_count": 2,
   "id": "sapphire-speech",
   "metadata": {},
   "outputs": [],
   "source": [
    "from typing import List"
   ]
  },
  {
   "cell_type": "markdown",
   "id": "allied-cherry",
   "metadata": {},
   "source": [
    "# Guía 1"
   ]
  },
  {
   "cell_type": "code",
   "execution_count": 3,
   "id": "inappropriate-general",
   "metadata": {},
   "outputs": [
    {
     "data": {
      "text/plain": [
       "' OBTENER LOS 4 FANTÁSTICOS\\nA.nullspace()\\nA.columnspace()\\nA.T.columnspace()\\nA.T.nullspace()\\n'"
      ]
     },
     "execution_count": 3,
     "metadata": {},
     "output_type": "execute_result"
    }
   ],
   "source": [
    "def coordenadas_de_un_vector_respecto_a_una_base_B(v, coordenadas):\n",
    "    w = v\n",
    "    for vector in coordenadas:\n",
    "        w = w.subs(vector, coordenadas[vector])\n",
    "    return w\n",
    "\n",
    "def encontrar_a(B: Matrix, a: Symbol):\n",
    "    ''' MATRICES CUADRADAS\n",
    "    Ejemplo:\n",
    "    a = Symbol('a')\n",
    "    B = Matrix([[a,3,1],[1,2,-a],[2,3,1]])\n",
    "    encontrar_a(M, a)\n",
    "    '''\n",
    "    return solve(det(B), a)\n",
    "\n",
    "def algoritmo_espacio_columna(S):\n",
    "    B_S = Matrix.hstack(*S)\n",
    "    _, pivotes_S = B_S.rref()\n",
    "    S_li = []\n",
    "    for pivote in pivotes_S:\n",
    "        S_li.append(S[pivote])\n",
    "    return S_li, pivotes_S\n",
    "\n",
    "def dos_subespacios_generan_el_mismo_subespacio(S1, S2):\n",
    "    '''\n",
    "    Ejemplo:\n",
    "    S1 = [Matrix([-4, -5, -3]), Matrix([26, 41, 23])]\n",
    "    bien = [Matrix([11, 18, 10]), Matrix([15, 23, 13])]\n",
    "    mal_1 = [Matrix([-3, 10, 8]), Matrix([-6, 11, 10])]\n",
    "    mal_2 = [Matrix([7, 12, 2]), Matrix([9, 14, 1])]\n",
    "    mal_3 = [Matrix([7, 2, 12]), Matrix([9, 1, 14]), 2 * Matrix([9, 1, 14])]\n",
    "\n",
    "    dos_subespacios_generan_el_mismo_subespacio(S1, bien), dos_subespacios_generan_el_mismo_subespacio(S1, mal_1), dos_subespacios_generan_el_mismo_subespacio(S1, mal_2), dos_subespacios_generan_el_mismo_subespacio(S1, mal_3)\n",
    "    '''\n",
    "    S1_li, pivotes_S1 = algoritmo_espacio_columna(S1)\n",
    "    S2_li, pivotes_S2 = algoritmo_espacio_columna(S2)\n",
    "    \n",
    "    if pivotes_S1 != pivotes_S2:\n",
    "        return False\n",
    "    \n",
    "    B_S1_li = Matrix.hstack(*S1_li)\n",
    "    B_S2_li = Matrix.hstack(*S2_li)\n",
    "    \n",
    "    B = Matrix.hstack(B_S1_li, B_S2_li)\n",
    "    _, pivotes_B = B.rref()\n",
    "    \n",
    "    return len(pivotes_B) == len(pivotes_S1)\n",
    "\n",
    "''' OBTENER LOS 4 FANTÁSTICOS\n",
    "A.nullspace()\n",
    "A.columnspace()\n",
    "A.T.columnspace()\n",
    "A.T.nullspace()\n",
    "'''"
   ]
  },
  {
   "cell_type": "markdown",
   "id": "theoretical-morris",
   "metadata": {},
   "source": [
    "# Guía 2"
   ]
  },
  {
   "cell_type": "code",
   "execution_count": 4,
   "id": "aging-replication",
   "metadata": {},
   "outputs": [
    {
     "data": {
      "text/plain": [
       "'a1*x**4*exp(-3*x)+a2*x**3*exp(-3*x)+a3*x**2*exp(-3*x)+a4*x**5*exp(-3*x)'"
      ]
     },
     "execution_count": 4,
     "metadata": {},
     "output_type": "execute_result"
    }
   ],
   "source": [
    "def matriz_de_transformacion_lineal(B, img_B):\n",
    "    '''\n",
    "    Ejemplo:\n",
    "    B = Matrix([[2, 2, 1], [1, -2, 2], [-2, 1, 2]])\n",
    "    img_B = Matrix([[0, -1, -1], [1, 0, -1], [1, 0, -1], [1, 1, 0]])\n",
    "    y = Matrix([2, 5, 5, 3])\n",
    "    '''\n",
    "    return img_B * B.inv()\n",
    "\n",
    "def imagen_por_T_de_un_subespacio(B: Matrix, img_B: Matrix, S: List[Matrix]):\n",
    "    img_S = matriz_de_transformacion_lineal(B, img_B) * Matrix.hstack(*S)\n",
    "    return img_S\n",
    "\n",
    "def nucleo_de_operador_diferencial(L):\n",
    "    x = Symbol('x')\n",
    "    Nu_L = set()\n",
    "    raices = L.split('*')\n",
    "    for raiz in raices:\n",
    "        try:\n",
    "            l = -int(raiz[raiz.index('-')+1])\n",
    "        except:\n",
    "            l = int(raiz[raiz.index('+')+1])\n",
    "        try:\n",
    "            k = int(raiz[raiz.index('^')+1])\n",
    "        except:\n",
    "            k = 1\n",
    "            \n",
    "        for i in range(k):\n",
    "            Nu_L.add((x**(i))*exp(-l*x))\n",
    "    return Nu_L\n",
    "\n",
    "def solucion_particular(Nu_L, Nu_A):\n",
    "    Nu_AL = Nu_L | Nu_A\n",
    "    yp_expr = ''\n",
    "    for i, e in enumerate(Nu_AL - Nu_L):\n",
    "        yp_expr += f'a{i+1}*{e}+'\n",
    "    return yp_expr[:-1]\n",
    "\n",
    "L = '(D-2I)*(D-4I)*(D+3I)^2'\n",
    "\n",
    "Nu_L = nucleo_de_operador_diferencial(L)\n",
    "Nu_A = nucleo_de_operador_diferencial('(D+3I)^6')\n",
    "\n",
    "solucion_particular(Nu_L, Nu_A)"
   ]
  },
  {
   "cell_type": "markdown",
   "id": "facial-motion",
   "metadata": {},
   "source": [
    "# Guía 3"
   ]
  },
  {
   "cell_type": "markdown",
   "id": "rental-jacket",
   "metadata": {},
   "source": [
    "## Productos Internos"
   ]
  },
  {
   "cell_type": "code",
   "execution_count": 8,
   "id": "illegal-spice",
   "metadata": {},
   "outputs": [],
   "source": [
    "def producto_interno_matrices_3_x_3(A: Matrix, B: Matrix, G: Matrix=None):\n",
    "    return 1/2 * (B.T * A).trace()\n",
    "\n",
    "def producto_interno_por_definicion(x: Matrix, y: Matrix, G: Matrix):\n",
    "    return (y.T * G * x)[0]\n",
    "\n",
    "def producto_interno_polinomios_integral(p, q, x, limite_inferior=0, limite_superior=1, a=1):\n",
    "    return integrate(p * q * a, (x, limite_inferior, limite_superior))\n",
    "\n",
    "def producto_interno_canonico(x, y, G):\n",
    "    return (y.T * x)[0]"
   ]
  },
  {
   "cell_type": "markdown",
   "id": "comic-chase",
   "metadata": {},
   "source": [
    "## Matriz de Gram"
   ]
  },
  {
   "cell_type": "code",
   "execution_count": null,
   "id": "sixth-shell",
   "metadata": {},
   "outputs": [],
   "source": [
    "def matriz_de_gram(producto_interno, G_B, *vectores_ordenados):\n",
    "    G = eye(len(vectores_ordenados))\n",
    "    for i in range(len(vectores_ordenados)):\n",
    "        for j, vector in enumerate(vectores_ordenados):\n",
    "            G[i,j] = producto_interno(vectores_ordenados[i], vectores_ordenados[j], G_B)\n",
    "    \n",
    "    return G"
   ]
  },
  {
   "cell_type": "markdown",
   "id": "behind-chrome",
   "metadata": {},
   "source": [
    "## Norma, Ángulo y Distancia"
   ]
  },
  {
   "cell_type": "code",
   "execution_count": null,
   "id": "statewide-harvey",
   "metadata": {},
   "outputs": [],
   "source": [
    "def norma(x, producto_interno, G):\n",
    "    return sqrt(producto_interno(x, x, G))\n",
    "\n",
    "def angulo(x, y, G, producto_interno):\n",
    "    return acos(producto_interno(x, y, G) / (norma(x, producto_interno, G) * norma(y, producto_interno, G)))\n",
    "\n",
    "def distancia_de_un_vector_a_un_subespacio(v, B, G, producto_interno):\n",
    "    '''AGARRAR CON PINZAS'''\n",
    "    _v_tilda = v_tilda(v, B, eye(4), producto_interno)\n",
    "    return sqrt(producto_interno(v, v, G) - (_v_tilda.T * G.inv() * _v_tilda)[0])"
   ]
  },
  {
   "cell_type": "markdown",
   "id": "separate-recognition",
   "metadata": {},
   "source": [
    "## Áreas (triángulo y paralelogramo)"
   ]
  },
  {
   "cell_type": "code",
   "execution_count": null,
   "id": "exposed-amazon",
   "metadata": {},
   "outputs": [],
   "source": [
    "def area_de_un_paralelogramo(G):\n",
    "    return G.det()\n",
    "\n",
    "def area_de_un_triangulo(G):\n",
    "    return 1/2 * sqrt(area_de_un_paralelogramo(G))"
   ]
  },
  {
   "cell_type": "markdown",
   "id": "worth-scott",
   "metadata": {},
   "source": [
    "## Proyecciones y Simetrías"
   ]
  },
  {
   "cell_type": "code",
   "execution_count": null,
   "id": "medium-excess",
   "metadata": {},
   "outputs": [],
   "source": [
    "def v_tilda(x, B, G, producto_interno):\n",
    "    return Matrix([producto_interno(x, B[i], G) for i in range(len(B))])\n",
    "\n",
    "def proyeccion_ortogonal_de_un_vector_a_un_subespacio(x: Matrix, B: list, G: Matrix, producto_interno):\n",
    "    return G.inv() * v_tilda(x, B, G, producto_interno)\n",
    "\n",
    "def matriz_de_proyeccion_sobre_S1_en_direccion_de_S2_en_coordenadas_canonicas(S1: List[Matrix], S2: List[Matrix]):\n",
    "    B_S1 = Matrix.hstack(*S1)\n",
    "    B_S2 = Matrix.hstack(*S2)\n",
    "    B = Matrix.hstack(B_S1, B_S2)\n",
    "    \n",
    "    P_BB = eye(B.rank())\n",
    "    for i in range(B_S1.rank(), B_S1.rank()-1, -1):\n",
    "        P_BB[i, i] = 0\n",
    "        \n",
    "    return B * P_BB * B.inv()\n",
    "\n",
    "def matriz_de_simetria_sobre_S1_en_direccion_de_S2_en_coordenadas_canonicas(S1: List[Matrix], S2: List[Matrix]):\n",
    "    B_S1 = Matrix.hstack(*S1)\n",
    "    B_S2 = Matrix.hstack(*S2)\n",
    "    B = Matrix.hstack(B_S1, B_S2)\n",
    "    \n",
    "    S_BB = eye(B.rank())\n",
    "    for i in range(B_S1.rank(), B_S1.rank()-1, -1):\n",
    "        S_BB[i, i] = -1\n",
    "        \n",
    "    return B * S_BB * B.inv()"
   ]
  },
  {
   "cell_type": "markdown",
   "id": "confirmed-metallic",
   "metadata": {},
   "source": [
    "## QR"
   ]
  },
  {
   "cell_type": "code",
   "execution_count": 6,
   "id": "floating-paper",
   "metadata": {},
   "outputs": [
    {
     "data": {
      "text/plain": [
       "'\\nQ, R = A.QRDecomposition()\\n'"
      ]
     },
     "execution_count": 6,
     "metadata": {},
     "output_type": "execute_result"
    }
   ],
   "source": [
    "'''\n",
    "Q, R = A.QRDecomposition()\n",
    "'''"
   ]
  }
 ],
 "metadata": {
  "kernelspec": {
   "display_name": "Python 3 (ipykernel)",
   "language": "python",
   "name": "python3"
  },
  "language_info": {
   "codemirror_mode": {
    "name": "ipython",
    "version": 3
   },
   "file_extension": ".py",
   "mimetype": "text/x-python",
   "name": "python",
   "nbconvert_exporter": "python",
   "pygments_lexer": "ipython3",
   "version": "3.8.10"
  }
 },
 "nbformat": 4,
 "nbformat_minor": 5
}
